{
  "nbformat": 4,
  "nbformat_minor": 0,
  "metadata": {
    "colab": {
      "name": "word2vecSentiment.ipynb",
      "provenance": [],
      "collapsed_sections": [],
      "toc_visible": true
    },
    "kernelspec": {
      "name": "python3",
      "display_name": "Python 3"
    }
  },
  "cells": [
    {
      "cell_type": "code",
      "metadata": {
        "id": "N8VvR5iT9JB0",
        "colab_type": "code",
        "outputId": "cf9c76ef-37d7-4065-fa2f-4e3c2d6bed5c",
        "colab": {
          "base_uri": "https://localhost:8080/",
          "height": 34
        }
      },
      "source": [
        "from google.colab import drive\n",
        "drive.mount('/content/drive')"
      ],
      "execution_count": 0,
      "outputs": [
        {
          "output_type": "stream",
          "text": [
            "Drive already mounted at /content/drive; to attempt to forcibly remount, call drive.mount(\"/content/drive\", force_remount=True).\n"
          ],
          "name": "stdout"
        }
      ]
    },
    {
      "cell_type": "code",
      "metadata": {
        "id": "VslOwEnQ1VBc",
        "colab_type": "code",
        "outputId": "fd448d98-643d-4978-8ac0-da0835d88689",
        "colab": {
          "base_uri": "https://localhost:8080/",
          "height": 34
        }
      },
      "source": [
        "cd /content/drive/My Drive/NLP/SA_Word2Vec/data1"
      ],
      "execution_count": 0,
      "outputs": [
        {
          "output_type": "stream",
          "text": [
            "/content/drive/My Drive/NLP/SA_Word2Vec/data1\n"
          ],
          "name": "stdout"
        }
      ]
    },
    {
      "cell_type": "code",
      "metadata": {
        "id": "RHG0Re6pt7BA",
        "colab_type": "code",
        "colab": {}
      },
      "source": [
        "%matplotlib inline\n",
        "\n",
        "# gensim modules\n",
        "from gensim import utils\n",
        "from gensim.models.doc2vec import LabeledSentence\n",
        "from gensim.models import Doc2Vec\n",
        "\n",
        "# numpy\n",
        "import numpy as np\n",
        "\n",
        "# classifier\n",
        "from sklearn.linear_model import LogisticRegression\n",
        "from sklearn.svm import SVC\n",
        "from sklearn.metrics import confusion_matrix\n",
        "from sklearn.metrics import accuracy_score\n",
        "\n",
        "# random, itertools, matplotlib\n",
        "import random\n",
        "import itertools\n",
        "import matplotlib.pyplot as plt"
      ],
      "execution_count": 0,
      "outputs": []
    },
    {
      "cell_type": "code",
      "metadata": {
        "id": "ejIHYhGE8uYJ",
        "colab_type": "code",
        "colab": {}
      },
      "source": [
        "import codecs\n",
        "import re\n",
        "import os    \n",
        "from chardet import detect\n",
        "\n",
        "# get file encoding type\n",
        "def get_encoding_type(file):\n",
        "    with open(file, 'rb') as f:\n",
        "        rawdata = f.read()\n",
        "    return detect(rawdata)['encoding']\n",
        "\n",
        "if __name__ == '__main__':\n",
        "  cnt = 0\n",
        "  file= open('rt-polarity.pos', 'r', encoding = get_encoding_type('rt-polarity.pos'), errors='ignore')\n",
        "  for line in file:\n",
        "    line =  re.sub(r'[?|$|.|!]',r'',line + '\\n')\n",
        "    line = re.sub(r'[^a-zA-Z0-9 ]',r'',line)\n",
        "    cnt += 1\n",
        "  file.close()\n",
        "  print(cnt)"
      ],
      "execution_count": 0,
      "outputs": []
    },
    {
      "cell_type": "code",
      "metadata": {
        "id": "iYwVXidAuJ9w",
        "colab_type": "code",
        "colab": {}
      },
      "source": [
        "class LabeledLineSentence(object):\n",
        "    def __init__(self, sources):\n",
        "        self.sources = sources\n",
        "        \n",
        "        flipped = {}\n",
        "        \n",
        "        # make sure that keys are unique\n",
        "        for key, value in sources.items():\n",
        "            if value not in flipped:\n",
        "                flipped[value] = [key]\n",
        "            else:\n",
        "                raise Exception('Non-unique prefix encountered')\n",
        "    \n",
        "    def __iter__(self):\n",
        "        for source, prefix in self.sources.items():\n",
        "            with utils.smart_open(source) as fin:\n",
        "                for item_no, line in enumerate(fin):\n",
        "                    yield LabeledSentence(utils.to_unicode(line).split(), [prefix + '_%s' % item_no])\n",
        "    \n",
        "    def to_array(self):\n",
        "        self.sentences = []\n",
        "        for source, prefix in self.sources.items():\n",
        "            with utils.smart_open(source) as fin:\n",
        "                for item_no, line in enumerate(fin):\n",
        "                    self.sentences.append(LabeledSentence(utils.to_unicode(line).split(), [prefix + '_%s' % item_no]))\n",
        "        return self.sentences\n",
        "    \n",
        "    def sentences_perm(self):\n",
        "        shuffled = list(self.sentences)\n",
        "        random.shuffle(shuffled)\n",
        "        return shuffled"
      ],
      "execution_count": 0,
      "outputs": []
    },
    {
      "cell_type": "code",
      "metadata": {
        "id": "jsDwaHkuuPNw",
        "colab_type": "code",
        "colab": {}
      },
      "source": [
        "sources = {\n",
        "    'test-neg.txt':'TEST_NEG',\n",
        "    'test-pos.txt':'TEST_POS', \n",
        "    'train-neg.txt':'TRAIN_NEG', \n",
        "    'train-pos.txt':'TRAIN_POS', \n",
        "}\n",
        "\n",
        "sentences = LabeledLineSentence(sources)"
      ],
      "execution_count": 0,
      "outputs": []
    },
    {
      "cell_type": "code",
      "metadata": {
        "id": "qLJQRVqhh5LC",
        "colab_type": "code",
        "colab": {}
      },
      "source": [
        "sources = {\n",
        "    'neg.txt':'TRAIN_NEG',\n",
        "    'pos.txt':'TRAIN_POS'\n",
        "}\n",
        "sentences = LabeledLineSentence(sources)"
      ],
      "execution_count": 0,
      "outputs": []
    },
    {
      "cell_type": "code",
      "metadata": {
        "id": "OKnX9ky9uQJ4",
        "colab_type": "code",
        "colab": {}
      },
      "source": [
        "model = Doc2Vec(min_count=5, window=8, size=100, sample=1e-4, negative=5, workers=4)\n",
        "model.build_vocab(sentences.to_array())\n"
      ],
      "execution_count": 0,
      "outputs": []
    },
    {
      "cell_type": "code",
      "metadata": {
        "id": "XepgrsBCuXq5",
        "colab_type": "code",
        "colab": {}
      },
      "source": [
        "model.train(sentences.sentences_perm(), total_examples=model.corpus_count, epochs=20)"
      ],
      "execution_count": 0,
      "outputs": []
    },
    {
      "cell_type": "code",
      "metadata": {
        "id": "ShJwsTFludRA",
        "colab_type": "code",
        "outputId": "18569b79-e017-4732-940a-e256cf36d2db",
        "colab": {
          "base_uri": "https://localhost:8080/",
          "height": 547
        }
      },
      "source": [
        "model.most_similar('good')\n",
        "model.docvecs['TRAIN_NEG_0']"
      ],
      "execution_count": 0,
      "outputs": [
        {
          "output_type": "stream",
          "text": [
            "/usr/local/lib/python3.6/dist-packages/ipykernel_launcher.py:1: DeprecationWarning: Call to deprecated `most_similar` (Method will be removed in 4.0.0, use self.wv.most_similar() instead).\n",
            "  \"\"\"Entry point for launching an IPython kernel.\n",
            "/usr/local/lib/python3.6/dist-packages/gensim/matutils.py:737: FutureWarning: Conversion of the second argument of issubdtype from `int` to `np.signedinteger` is deprecated. In future, it will be treated as `np.int64 == np.dtype(int).type`.\n",
            "  if np.issubdtype(vec.dtype, np.int):\n"
          ],
          "name": "stderr"
        },
        {
          "output_type": "execute_result",
          "data": {
            "text/plain": [
              "array([ 2.04540733e-02, -8.80355109e-03, -5.09346137e-03,  1.16899936e-02,\n",
              "       -2.10139677e-02,  3.01842242e-02,  6.10662252e-03, -3.79141681e-02,\n",
              "       -1.27900578e-02,  3.31926486e-03, -6.75066048e-03,  2.19130088e-02,\n",
              "       -1.82115287e-02,  2.53737327e-02, -2.07704734e-02, -2.22784164e-03,\n",
              "        1.49219343e-02,  5.91195794e-03, -9.98992287e-03,  2.94226035e-03,\n",
              "        7.92274531e-03, -1.67980436e-02,  1.20890159e-02, -1.96036529e-02,\n",
              "        1.13007491e-02, -1.19279115e-03,  2.10121414e-03, -7.21047400e-03,\n",
              "       -4.84462781e-03, -6.58585690e-03, -1.07084531e-02,  1.81445684e-02,\n",
              "        1.75379980e-02, -5.87582812e-02, -1.20109553e-03, -4.96167224e-04,\n",
              "       -2.33428869e-02, -1.38338143e-02,  9.00478847e-03,  1.13128135e-02,\n",
              "        1.17758010e-02,  1.24108437e-02, -1.34329489e-02, -3.01754717e-02,\n",
              "       -9.48057231e-03, -1.88691018e-03,  5.32957958e-03, -2.07087267e-02,\n",
              "        1.71805508e-02, -3.98663692e-02, -1.70975719e-02, -1.96625246e-03,\n",
              "       -3.95156583e-03,  9.08036064e-03, -2.57470831e-03, -1.66640189e-02,\n",
              "       -1.20742787e-02, -2.58935764e-02,  1.05416691e-02,  1.93104278e-02,\n",
              "        2.00693440e-02, -6.72183605e-03,  9.57153644e-03, -6.76112110e-03,\n",
              "        4.20508906e-03, -1.21253235e-02,  1.98617149e-02,  9.85120609e-03,\n",
              "        1.40127987e-02,  1.03762653e-02,  2.65426424e-05, -9.03221685e-03,\n",
              "        1.17547093e-02,  3.81446034e-02, -6.91182353e-03, -2.05484070e-02,\n",
              "       -2.74241921e-02, -9.32777021e-03, -1.23547635e-03, -2.70615332e-02,\n",
              "        4.33113687e-02, -2.37847976e-02, -1.51349120e-02, -8.12021270e-03,\n",
              "        1.06848413e-02,  2.38495618e-02, -1.64894592e-02, -3.90269607e-02,\n",
              "        6.52823178e-03,  1.73586234e-02, -4.44410322e-03,  5.33210626e-03,\n",
              "        6.68839784e-03,  1.16752535e-02, -1.52118066e-02, -4.03881297e-02,\n",
              "       -1.71678215e-02,  2.43628453e-02,  6.44436246e-03, -7.47613283e-03],\n",
              "      dtype=float32)"
            ]
          },
          "metadata": {
            "tags": []
          },
          "execution_count": 148
        }
      ]
    },
    {
      "cell_type": "code",
      "metadata": {
        "id": "XZcBFIFCukn_",
        "colab_type": "code",
        "outputId": "3f4a5437-b994-4d5e-95e0-de9ddddbca8e",
        "colab": {
          "base_uri": "https://localhost:8080/",
          "height": 71
        }
      },
      "source": [
        "model.save('./imdb.d2v')\n",
        "model = Doc2Vec.load('./imdb.d2v')\n"
      ],
      "execution_count": 0,
      "outputs": [
        {
          "output_type": "stream",
          "text": [
            "/usr/local/lib/python3.6/dist-packages/smart_open/smart_open_lib.py:410: UserWarning: This function is deprecated, use smart_open.open instead. See the migration notes for details: https://github.com/RaRe-Technologies/smart_open/blob/master/README.rst#migrating-to-the-new-open-function\n",
            "  'See the migration notes for details: %s' % _MIGRATION_NOTES_URL\n"
          ],
          "name": "stderr"
        }
      ]
    },
    {
      "cell_type": "code",
      "metadata": {
        "id": "qttblb8RP_KB",
        "colab_type": "code",
        "colab": {}
      },
      "source": [
        "import numpy as np\n",
        "from sklearn.model_selection import train_test_split\n",
        "\n",
        "X = np.zeros((10660, 100))\n",
        "y = np.zeros(10660)\n",
        "for i in range(5330):\n",
        "   X[i] = model.docvecs['TRAIN_POS_' + str(i)]\n",
        "   y[i] = 1\n",
        "   X[5330+i] = model.docvecs['TRAIN_NEG_' + str(i)]\n",
        "   y[i+5330] = 0\n",
        "\n",
        "X_train,X_test, y_train,y_test = train_test_split(X,y,test_size=0.33, random_state=100)\n"
      ],
      "execution_count": 0,
      "outputs": []
    },
    {
      "cell_type": "code",
      "metadata": {
        "id": "r4JdlVoTuq0n",
        "colab_type": "code",
        "colab": {}
      },
      "source": [
        "X_train = np.zeros((25000, 100))\n",
        "y_train = np.zeros(25000)\n",
        "for i in range(12500):\n",
        "    prefix_train_pos = 'TRAIN_POS_' + str(i)\n",
        "    prefix_train_neg = 'TRAIN_NEG_' + str(i)\n",
        "    X_train[i] = model.docvecs[prefix_train_pos]\n",
        "    X_train[12500 + i] = model.docvecs[prefix_train_neg]\n",
        "    y_train[i] = 1\n",
        "    y_train[12500 + i] = 0"
      ],
      "execution_count": 0,
      "outputs": []
    },
    {
      "cell_type": "code",
      "metadata": {
        "id": "jKEE0Fcourop",
        "colab_type": "code",
        "colab": {}
      },
      "source": [
        "X_test = np.zeros((25000, 100))\n",
        "y_test = np.zeros(25000)\n",
        "\n",
        "for i in range(12500):\n",
        "    prefix_test_pos = 'TEST_POS_' + str(i)\n",
        "    prefix_test_neg = 'TEST_NEG_' + str(i)\n",
        "    X_test[i] = model.docvecs[prefix_test_pos]\n",
        "    X_test[12500 + i] = model.docvecs[prefix_test_neg]\n",
        "    y_test[i] = 1\n",
        "    y_test[12500 + i] = 0"
      ],
      "execution_count": 0,
      "outputs": []
    },
    {
      "cell_type": "code",
      "metadata": {
        "id": "3HE5o1eou3u_",
        "colab_type": "code",
        "outputId": "ed195cf3-ffc5-4dc5-e44f-d8b7721dc256",
        "colab": {
          "base_uri": "https://localhost:8080/",
          "height": 102
        }
      },
      "source": [
        "classifier = LogisticRegression()\n",
        "classifier.fit(X_train, y_train)"
      ],
      "execution_count": 0,
      "outputs": [
        {
          "output_type": "execute_result",
          "data": {
            "text/plain": [
              "LogisticRegression(C=1.0, class_weight=None, dual=False, fit_intercept=True,\n",
              "                   intercept_scaling=1, l1_ratio=None, max_iter=100,\n",
              "                   multi_class='auto', n_jobs=None, penalty='l2',\n",
              "                   random_state=None, solver='lbfgs', tol=0.0001, verbose=0,\n",
              "                   warm_start=False)"
            ]
          },
          "metadata": {
            "tags": []
          },
          "execution_count": 151
        }
      ]
    },
    {
      "cell_type": "code",
      "metadata": {
        "colab_type": "code",
        "outputId": "3c482bab-c3cd-4c08-eb30-7848248ddd7b",
        "id": "lk3yl6aKAUjV",
        "colab": {
          "base_uri": "https://localhost:8080/",
          "height": 345
        }
      },
      "source": [
        "def plot_confusion_matrix(cm, classes,\n",
        "                          normalize=False,\n",
        "                          title='Confusion matrix',\n",
        "                          cmap=plt.cm.Blues):\n",
        "    plt.imshow(cm, interpolation='nearest', cmap=cmap)\n",
        "    plt.title(title)\n",
        "    plt.colorbar()\n",
        "    tick_marks = np.arange(len(classes))\n",
        "    plt.xticks(tick_marks, classes, rotation=45)\n",
        "    plt.yticks(tick_marks, classes)\n",
        "\n",
        "    if normalize:\n",
        "        cm = cm.astype('float') / cm.sum(axis=1)[:, np.newaxis]\n",
        "        print(\"Normalized confusion matrix\")\n",
        "    else:\n",
        "        print('Confusion matrix, without normalization')\n",
        "\n",
        "    thresh = cm.max() / 2.\n",
        "    for i, j in itertools.product(range(cm.shape[0]), range(cm.shape[1])):\n",
        "        plt.text(j, i, cm[i, j],\n",
        "                 horizontalalignment=\"center\",\n",
        "                 color=\"white\" if cm[i, j] > thresh else \"black\")\n",
        "\n",
        "    plt.tight_layout()\n",
        "    plt.ylabel('True label')\n",
        "    plt.xlabel('Predicted label')\n",
        "\n",
        "print ('Accuracy', classifier.score(X_test, y_test))\n",
        "y_pred = classifier.predict(X_test)\n",
        "cm = confusion_matrix(y_test, y_pred, labels=[0, 1])\n",
        "plot_confusion_matrix(cm, classes=['neg', 'pos'])"
      ],
      "execution_count": 0,
      "outputs": [
        {
          "output_type": "stream",
          "text": [
            "Accuracy 0.5497441728254691\n",
            "Confusion matrix, without normalization\n"
          ],
          "name": "stdout"
        },
        {
          "output_type": "display_data",
          "data": {
            "image/png": "[encoded data removed]",
            "text/plain": [
              "<Figure size 432x288 with 2 Axes>"
            ]
          },
          "metadata": {
            "tags": []
          }
        }
      ]
    },
    {
      "cell_type": "code",
      "metadata": {
        "id": "ZDFESj90vCrY",
        "colab_type": "code",
        "outputId": "80eaedb7-a5a8-4490-d6e6-059282c93bf2",
        "colab": {
          "base_uri": "https://localhost:8080/",
          "height": 345
        }
      },
      "source": [
        "classifier = SVC()\n",
        "classifier.fit(X_train, y_train)\n",
        "\n",
        "print ('Accuracy', classifier.score(X_test, y_test))\n",
        "y_pred = classifier.predict(X_test)\n",
        "cm = confusion_matrix(y_test, y_pred, labels=[0, 1])\n",
        "plot_confusion_matrix(cm, classes=['neg', 'pos'])"
      ],
      "execution_count": 0,
      "outputs": [
        {
          "output_type": "stream",
          "text": [
            "Accuracy 0.533826037521319\n",
            "Confusion matrix, without normalization\n"
          ],
          "name": "stdout"
        },
        {
          "output_type": "display_data",
          "data": {
            "image/png": "[encoded data removed]",
            "text/plain": [
              "<Figure size 432x288 with 2 Axes>"
            ]
          },
          "metadata": {
            "tags": []
          }
        }
      ]
    }
  ]
}